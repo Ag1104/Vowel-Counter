{
 "cells": [
  {
   "cell_type": "markdown",
   "id": "c08b7a9d",
   "metadata": {},
   "source": [
    "# VOWEL COUNTER"
   ]
  },
  {
   "cell_type": "code",
   "execution_count": 9,
   "id": "cd1c53e0",
   "metadata": {},
   "outputs": [
    {
     "name": "stdout",
     "output_type": "stream",
     "text": [
      "Enter your statement: The moment you have come to this office, I will remove your teeth.\n",
      "The number of vowels in the statement is: 23\n"
     ]
    }
   ],
   "source": [
    "sentence = input(\"Enter your statement: \").casefold()\n",
    "counter = sentence.count(\"a\")+sentence.count(\"e\")+sentence.count(\"i\")+sentence.count(\"o\")+sentence.count(\"u\")\n",
    "print(f\"The number of vowels in the statement is: {counter}\")"
   ]
  },
  {
   "cell_type": "code",
   "execution_count": null,
   "id": "8ab11d50",
   "metadata": {},
   "outputs": [],
   "source": []
  }
 ],
 "metadata": {
  "kernelspec": {
   "display_name": "Python 3 (ipykernel)",
   "language": "python",
   "name": "python3"
  },
  "language_info": {
   "codemirror_mode": {
    "name": "ipython",
    "version": 3
   },
   "file_extension": ".py",
   "mimetype": "text/x-python",
   "name": "python",
   "nbconvert_exporter": "python",
   "pygments_lexer": "ipython3",
   "version": "3.11.5"
  }
 },
 "nbformat": 4,
 "nbformat_minor": 5
}
